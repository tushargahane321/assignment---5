{
 "cells": [
  {
   "cell_type": "code",
   "execution_count": 1,
   "id": "cfd14ae1-04f2-4437-99a0-79ada4045248",
   "metadata": {},
   "outputs": [],
   "source": [
    "#(1)_create a python program to sort the given list of tuples based on integer value using a lambda function."
   ]
  },
  {
   "cell_type": "code",
   "execution_count": 13,
   "id": "0cbeec6d-9603-4c11-a7c7-3efe31095525",
   "metadata": {},
   "outputs": [
    {
     "name": "stdout",
     "output_type": "stream",
     "text": [
      "[('virat kohli', 24936), ('Jack Kallis', 25534), ('Ricky Ponting', 27483), ('Sachin Tendulkar', 34357)]\n"
     ]
    }
   ],
   "source": [
    "L= [('Sachin Tendulkar',34357),('Ricky Ponting',27483),('Jack Kallis',25534),('virat kohli',24936)]\n",
    "\n",
    "sorted_list = sorted(L, key=lambda x: x[1])\n",
    "print(sorted_list)"
   ]
  },
  {
   "cell_type": "code",
   "execution_count": 3,
   "id": "7d29889a-8721-4e03-adee-550c9c3ac228",
   "metadata": {},
   "outputs": [],
   "source": [
    "#(2)_write a python program to find the squares of all the numbers in the given list of integers using lambda and map functions."
   ]
  },
  {
   "cell_type": "code",
   "execution_count": 4,
   "id": "b20b26a5-0e51-4bc4-8b04-f0f565a37708",
   "metadata": {},
   "outputs": [],
   "source": [
    "l = [1,2,3,4,5,6,7,8,9,10]"
   ]
  },
  {
   "cell_type": "code",
   "execution_count": 6,
   "id": "c604cb65-7c31-40c2-b4dd-9a57dfa2fba1",
   "metadata": {},
   "outputs": [
    {
     "data": {
      "text/plain": [
       "[1, 4, 9, 16, 25, 36, 49, 64, 81, 100]"
      ]
     },
     "execution_count": 6,
     "metadata": {},
     "output_type": "execute_result"
    }
   ],
   "source": [
    "list(map(lambda x: x**2,l))"
   ]
  },
  {
   "cell_type": "code",
   "execution_count": null,
   "id": "e9fda1a7-f993-461f-8fa2-2f687c446204",
   "metadata": {},
   "outputs": [],
   "source": [
    "#(3)_write a python program to convert the given list of integers into a tuple of strings. use map and lambda functions"
   ]
  },
  {
   "cell_type": "code",
   "execution_count": 23,
   "id": "e45e478e-74bd-4a58-b106-f1cee6ec02a8",
   "metadata": {},
   "outputs": [],
   "source": [
    "l= [1,2,3,4,5,6,7,8,9,10]"
   ]
  },
  {
   "cell_type": "code",
   "execution_count": 37,
   "id": "37d51602-3848-490c-aca7-443f91be97d0",
   "metadata": {},
   "outputs": [
    {
     "data": {
      "text/plain": [
       "('1', '2', '3', '4', '5', '6', '7', '8', '9', '10')"
      ]
     },
     "execution_count": 37,
     "metadata": {},
     "output_type": "execute_result"
    }
   ],
   "source": [
    "tuple(map(str,l))"
   ]
  },
  {
   "cell_type": "code",
   "execution_count": null,
   "id": "48ae40a5-c539-40c9-a1e1-34646bf90485",
   "metadata": {},
   "outputs": [],
   "source": [
    "#(4)_write a python program using reduce function to compute the product of a list containing numbers from 1 to 25."
   ]
  },
  {
   "cell_type": "code",
   "execution_count": 42,
   "id": "68d5cf65-5f61-4570-8ad4-f1cb8d4545b1",
   "metadata": {},
   "outputs": [],
   "source": [
    "l = [1,2,3,4,5,6,7,8,9,10,11,12,13,14,15,16,17,18,19,20,21,22,23,24,25]"
   ]
  },
  {
   "cell_type": "code",
   "execution_count": 48,
   "id": "c04b7a80-b4e4-42f4-bc01-6c8e4908f633",
   "metadata": {},
   "outputs": [],
   "source": [
    "from functools import reduce"
   ]
  },
  {
   "cell_type": "code",
   "execution_count": 51,
   "id": "043aa4e5-255e-4c7a-a41a-a3c62ee7e6eb",
   "metadata": {},
   "outputs": [
    {
     "data": {
      "text/plain": [
       "15511210043330985984000000"
      ]
     },
     "execution_count": 51,
     "metadata": {},
     "output_type": "execute_result"
    }
   ],
   "source": [
    "reduce(lambda x,y : x*y , l)"
   ]
  },
  {
   "cell_type": "code",
   "execution_count": 59,
   "id": "bc811b4f-0a8f-4a71-920e-665b17a4257c",
   "metadata": {},
   "outputs": [],
   "source": [
    "#(5)_write a python to filter the numbers in  a given list that are divisible by 2 and 3 using the filter function."
   ]
  },
  {
   "cell_type": "code",
   "execution_count": 64,
   "id": "3822b387-6f52-4405-9149-6e48c39e7704",
   "metadata": {},
   "outputs": [],
   "source": [
    "l1 = [2,3,6,9,27,60,90,120,55,46]"
   ]
  },
  {
   "cell_type": "code",
   "execution_count": 67,
   "id": "9062d452-8b1c-4307-ad70-41f2b84eb933",
   "metadata": {},
   "outputs": [
    {
     "data": {
      "text/plain": [
       "[6, 60, 90, 120]"
      ]
     },
     "execution_count": 67,
     "metadata": {},
     "output_type": "execute_result"
    }
   ],
   "source": [
    "list(filter(lambda x : x%2 ==0 and x% 3==0 , l1))"
   ]
  },
  {
   "cell_type": "code",
   "execution_count": 68,
   "id": "fb0ff658-8ad3-43eb-8bf7-8761dfd27568",
   "metadata": {},
   "outputs": [],
   "source": [
    "#(6)_write a python program to find palindromes in the given list of strings using lambda and filter function."
   ]
  },
  {
   "cell_type": "code",
   "execution_count": 69,
   "id": "4d0af357-4d33-4fb4-bee1-449c74885e99",
   "metadata": {},
   "outputs": [],
   "source": [
    "l2 = ['python','php','aba','radar','level']"
   ]
  },
  {
   "cell_type": "code",
   "execution_count": 71,
   "id": "d3d532fb-93a3-49a2-8249-4aa1067b8304",
   "metadata": {},
   "outputs": [
    {
     "data": {
      "text/plain": [
       "['php', 'aba', 'radar', 'level']"
      ]
     },
     "execution_count": 71,
     "metadata": {},
     "output_type": "execute_result"
    }
   ],
   "source": [
    "list(filter(lambda x: (x== \"\".join(reversed(x))), l2))"
   ]
  },
  {
   "cell_type": "code",
   "execution_count": null,
   "id": "789fe58d-48fe-4393-93b8-95c0bb18493a",
   "metadata": {},
   "outputs": [],
   "source": []
  }
 ],
 "metadata": {
  "kernelspec": {
   "display_name": "Python 3 (ipykernel)",
   "language": "python",
   "name": "python3"
  },
  "language_info": {
   "codemirror_mode": {
    "name": "ipython",
    "version": 3
   },
   "file_extension": ".py",
   "mimetype": "text/x-python",
   "name": "python",
   "nbconvert_exporter": "python",
   "pygments_lexer": "ipython3",
   "version": "3.10.8"
  }
 },
 "nbformat": 4,
 "nbformat_minor": 5
}
